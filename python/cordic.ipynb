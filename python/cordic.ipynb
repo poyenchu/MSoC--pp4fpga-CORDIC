{
 "cells": [
  {
   "cell_type": "code",
   "execution_count": 1,
   "metadata": {},
   "outputs": [
    {
     "data": {
      "application/javascript": [
       "\n",
       "require(['notebook/js/codecell'], function(codecell) {\n",
       "  codecell.CodeCell.options_default.highlight_modes[\n",
       "      'magic_text/x-csrc'] = {'reg':[/^%%microblaze/]};\n",
       "  Jupyter.notebook.events.one('kernel_ready.Kernel', function(){\n",
       "      Jupyter.notebook.get_cells().map(function(cell){\n",
       "          if (cell.cell_type == 'code'){ cell.auto_highlight(); } }) ;\n",
       "  });\n",
       "});\n"
      ]
     },
     "metadata": {},
     "output_type": "display_data"
    }
   ],
   "source": [
    "import math\n",
    "import numpy as np \n",
    "import sys\n",
    "sys.path.append('/home/xilinx')\n",
    "from pynq import Overlay"
   ]
  },
  {
   "cell_type": "code",
   "execution_count": 2,
   "metadata": {},
   "outputs": [],
   "source": [
    "ol = Overlay(\"/home/xilinx/Po-Yen/cordic/cordic.bit\")\n",
    "ip_cordic = ol.cordic_0"
   ]
  },
  {
   "cell_type": "code",
   "execution_count": 3,
   "metadata": {},
   "outputs": [
    {
     "name": "stdout",
     "output_type": "stream",
     "text": [
      "degree=10, cos=0.982421875, sin=0.173828125\n",
      "degree=20, cos=0.9384765625, sin=0.33984375\n",
      "degree=30, cos=0.865234375, sin=0.5\n",
      "degree=40, cos=0.765625, sin=0.6396484375\n",
      "degree=50, cos=0.6396484375, sin=0.765625\n",
      "degree=60, cos=0.498046875, sin=0.865234375\n",
      "degree=70, cos=0.33984375, sin=0.9384765625\n",
      "degree=80, cos=0.173828125, sin=0.982421875\n"
     ]
    }
   ],
   "source": [
    "for i in range(8):\n",
    "    radian = 10*(i+1) * math.pi /180 ; \n",
    "    radian_hw = radian * (2**10)  # S1.10      \n",
    "\n",
    "    ip_cordic.write(0x10, int(radian_hw) )\n",
    "    ip_cordic.write(0x00, 0x01)\n",
    "    while (ip_cordic.read(0x00) & 0x4) == 0x0:\n",
    "        continue\n",
    "        \n",
    "    s = ip_cordic.read(0x18)\n",
    "    c = ip_cordic.read(0x20)\n",
    "    print( \"degree=\"+ str(round(radian * 180 / math.pi)) + \", cos=\" + str( c/(2**10) ) + \", sin=\" + str(s/(2**10) ))\n"
   ]
  },
  {
   "cell_type": "code",
   "execution_count": null,
   "metadata": {},
   "outputs": [],
   "source": []
  }
 ],
 "metadata": {
  "kernelspec": {
   "display_name": "Python 3",
   "language": "python",
   "name": "python3"
  },
  "language_info": {
   "codemirror_mode": {
    "name": "ipython",
    "version": 3
   },
   "file_extension": ".py",
   "mimetype": "text/x-python",
   "name": "python",
   "nbconvert_exporter": "python",
   "pygments_lexer": "ipython3",
   "version": "3.6.5"
  }
 },
 "nbformat": 4,
 "nbformat_minor": 2
}
